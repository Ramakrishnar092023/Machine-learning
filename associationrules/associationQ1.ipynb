{
 "cells": [
  {
   "cell_type": "markdown",
   "metadata": {},
   "source": [
    "# Name: Ramakrishna Raju\n",
    "# Batch: 09012021\n",
    "# ASSOCIATION RULES"
   ]
  },
  {
   "cell_type": "markdown",
   "metadata": {},
   "source": [
    "# Problem Statement: - \n",
    "\tKitabi Duniya , a famous book store in India, which was established before Independence, the growth of the company was incremental year by year, but due to online selling of books and wide spread Internet access its annual growth started to collapse, seeing sharp downfalls, you as a Data Scientist help this heritage book store gain its popularity back and increase footfall of customers and provide ways the business can improve exponentially, apply Association Rule Algorithm, explain the rules, and visualize the graphs for clear understanding of solution.\n",
    "1.) Books.csv\n"
   ]
  },
  {
   "cell_type": "code",
   "execution_count": 1,
   "metadata": {},
   "outputs": [],
   "source": [
    "import pandas as pd\n",
    "from mlxtend.frequent_patterns import apriori, association_rules"
   ]
  },
  {
   "cell_type": "code",
   "execution_count": 2,
   "metadata": {},
   "outputs": [],
   "source": [
    "book = pd.read_csv(r\"F:\\360\\associationrules\\book.csv\")"
   ]
  },
  {
   "cell_type": "markdown",
   "metadata": {},
   "source": [
    "# Finding the frequent items"
   ]
  },
  {
   "cell_type": "code",
   "execution_count": 3,
   "metadata": {},
   "outputs": [
    {
     "data": {
      "text/plain": [
       "(224, 2)"
      ]
     },
     "execution_count": 3,
     "metadata": {},
     "output_type": "execute_result"
    }
   ],
   "source": [
    "frequent_itemsets = apriori(book,min_support=0.005, max_len=3,use_colnames = True)\n",
    "frequent_itemsets.shape"
   ]
  },
  {
   "cell_type": "markdown",
   "metadata": {},
   "source": [
    "# Most Frequent item sets based on support"
   ]
  },
  {
   "cell_type": "code",
   "execution_count": 4,
   "metadata": {},
   "outputs": [],
   "source": [
    "frequent_itemsets.sort_values('support',ascending = False,inplace=True)"
   ]
  },
  {
   "cell_type": "code",
   "execution_count": 5,
   "metadata": {},
   "outputs": [
    {
     "name": "stderr",
     "output_type": "stream",
     "text": [
      "<ipython-input-5-48e44dd25921>:2: MatplotlibDeprecationWarning: Using a string of single character colors as a color sequence is deprecated since 3.2 and will be removed two minor releases later. Use an explicit list instead.\n",
      "  plt.bar(x = list(range(1,11)),height = frequent_itemsets.support[1:11],color='rgmyk');\n"
     ]
    },
    {
     "data": {
      "text/plain": [
       "Text(0, 0.5, 'support')"
      ]
     },
     "execution_count": 5,
     "metadata": {},
     "output_type": "execute_result"
    },
    {
     "data": {
      "image/png": "[encoded data removed]",
      "text/plain": [
       "<Figure size 432x288 with 1 Axes>"
      ]
     },
     "metadata": {
      "needs_background": "light"
     },
     "output_type": "display_data"
    }
   ],
   "source": [
    "import matplotlib.pylab as plt\n",
    "plt.bar(x = list(range(1,11)),height = frequent_itemsets.support[1:11],color='rgmyk');\n",
    "plt.xticks(list(range(1,11)),frequent_itemsets.itemsets[1:11]);\n",
    "plt.xlabel('item-sets');\n",
    "plt.ylabel('support')"
   ]
  },
  {
   "cell_type": "code",
   "execution_count": 6,
   "metadata": {},
   "outputs": [
    {
     "data": {
      "text/plain": [
       "(1054, 9)"
      ]
     },
     "execution_count": 6,
     "metadata": {},
     "output_type": "execute_result"
    }
   ],
   "source": [
    "rules = association_rules(frequent_itemsets, metric=\"lift\", min_threshold=1)\n",
    "rules.shape"
   ]
  },
  {
   "cell_type": "code",
   "execution_count": 7,
   "metadata": {},
   "outputs": [],
   "source": [
    "rules.head(20)\n",
    "rules.sort_values('lift',ascending = False,inplace=True)"
   ]
  },
  {
   "cell_type": "markdown",
   "metadata": {},
   "source": [
    "#  To eliminate Redudancy in Rules"
   ]
  },
  {
   "cell_type": "code",
   "execution_count": 8,
   "metadata": {},
   "outputs": [],
   "source": [
    "def to_list(i):\n",
    "    return (sorted(list(i)))"
   ]
  },
  {
   "cell_type": "code",
   "execution_count": 9,
   "metadata": {},
   "outputs": [],
   "source": [
    "ma_X = rules.antecedents.apply(to_list)+rules.consequents.apply(to_list)"
   ]
  },
  {
   "cell_type": "code",
   "execution_count": 10,
   "metadata": {},
   "outputs": [],
   "source": [
    "ma_X = ma_X.apply(sorted)"
   ]
  },
  {
   "cell_type": "code",
   "execution_count": 11,
   "metadata": {},
   "outputs": [],
   "source": [
    "rules_sets = list(ma_X)"
   ]
  },
  {
   "cell_type": "code",
   "execution_count": 12,
   "metadata": {},
   "outputs": [],
   "source": [
    "unique_rules_sets = [list(m) for m in set(tuple(i) for i in rules_sets)]\n",
    "index_rules = []\n",
    "for i in unique_rules_sets:\n",
    "    index_rules.append(rules_sets.index(i))"
   ]
  },
  {
   "cell_type": "markdown",
   "metadata": {},
   "source": [
    "# getting rules without any redudancy "
   ]
  },
  {
   "cell_type": "code",
   "execution_count": 13,
   "metadata": {},
   "outputs": [],
   "source": [
    "rules_no_redudancy  = rules.iloc[index_rules,:]"
   ]
  },
  {
   "cell_type": "code",
   "execution_count": 14,
   "metadata": {},
   "outputs": [],
   "source": [
    "# Sorting them with respect to list and getting top 10 rules "
   ]
  },
  {
   "cell_type": "code",
   "execution_count": 15,
   "metadata": {},
   "outputs": [
    {
     "data": {
      "text/html": [
       "<div>\n",
       "<style scoped>\n",
       "    .dataframe tbody tr th:only-of-type {\n",
       "        vertical-align: middle;\n",
       "    }\n",
       "\n",
       "    .dataframe tbody tr th {\n",
       "        vertical-align: top;\n",
       "    }\n",
       "\n",
       "    .dataframe thead th {\n",
       "        text-align: right;\n",
       "    }\n",
       "</style>\n",
       "<table border=\"1\" class=\"dataframe\">\n",
       "  <thead>\n",
       "    <tr style=\"text-align: right;\">\n",
       "      <th></th>\n",
       "      <th>antecedents</th>\n",
       "      <th>consequents</th>\n",
       "      <th>antecedent support</th>\n",
       "      <th>consequent support</th>\n",
       "      <th>support</th>\n",
       "      <th>confidence</th>\n",
       "      <th>lift</th>\n",
       "      <th>leverage</th>\n",
       "      <th>conviction</th>\n",
       "    </tr>\n",
       "  </thead>\n",
       "  <tbody>\n",
       "    <tr>\n",
       "      <th>749</th>\n",
       "      <td>(RefBks, ItalArt)</td>\n",
       "      <td>(ItalAtlas)</td>\n",
       "      <td>0.0200</td>\n",
       "      <td>0.0370</td>\n",
       "      <td>0.0165</td>\n",
       "      <td>0.825000</td>\n",
       "      <td>22.297297</td>\n",
       "      <td>0.015760</td>\n",
       "      <td>5.502857</td>\n",
       "    </tr>\n",
       "    <tr>\n",
       "      <th>746</th>\n",
       "      <td>(ItalArt)</td>\n",
       "      <td>(ItalAtlas, ArtBks)</td>\n",
       "      <td>0.0485</td>\n",
       "      <td>0.0180</td>\n",
       "      <td>0.0165</td>\n",
       "      <td>0.340206</td>\n",
       "      <td>18.900344</td>\n",
       "      <td>0.015627</td>\n",
       "      <td>1.488344</td>\n",
       "    </tr>\n",
       "    <tr>\n",
       "      <th>351</th>\n",
       "      <td>(ArtBks, ItalCook)</td>\n",
       "      <td>(ItalArt)</td>\n",
       "      <td>0.0565</td>\n",
       "      <td>0.0485</td>\n",
       "      <td>0.0375</td>\n",
       "      <td>0.663717</td>\n",
       "      <td>13.684883</td>\n",
       "      <td>0.034760</td>\n",
       "      <td>2.829461</td>\n",
       "    </tr>\n",
       "    <tr>\n",
       "      <th>561</th>\n",
       "      <td>(RefBks, ItalCook)</td>\n",
       "      <td>(ItalAtlas)</td>\n",
       "      <td>0.0465</td>\n",
       "      <td>0.0370</td>\n",
       "      <td>0.0230</td>\n",
       "      <td>0.494624</td>\n",
       "      <td>13.368207</td>\n",
       "      <td>0.021279</td>\n",
       "      <td>1.905511</td>\n",
       "    </tr>\n",
       "    <tr>\n",
       "      <th>924</th>\n",
       "      <td>(ItalArt)</td>\n",
       "      <td>(ItalAtlas, GeogBks)</td>\n",
       "      <td>0.0485</td>\n",
       "      <td>0.0205</td>\n",
       "      <td>0.0115</td>\n",
       "      <td>0.237113</td>\n",
       "      <td>11.566507</td>\n",
       "      <td>0.010506</td>\n",
       "      <td>1.283939</td>\n",
       "    </tr>\n",
       "    <tr>\n",
       "      <th>900</th>\n",
       "      <td>(ItalArt)</td>\n",
       "      <td>(ItalAtlas, ItalCook)</td>\n",
       "      <td>0.0485</td>\n",
       "      <td>0.0230</td>\n",
       "      <td>0.0125</td>\n",
       "      <td>0.257732</td>\n",
       "      <td>11.205737</td>\n",
       "      <td>0.011385</td>\n",
       "      <td>1.316236</td>\n",
       "    </tr>\n",
       "    <tr>\n",
       "      <th>966</th>\n",
       "      <td>(ItalArt)</td>\n",
       "      <td>(Florence, ItalCook)</td>\n",
       "      <td>0.0485</td>\n",
       "      <td>0.0175</td>\n",
       "      <td>0.0095</td>\n",
       "      <td>0.195876</td>\n",
       "      <td>11.192931</td>\n",
       "      <td>0.008651</td>\n",
       "      <td>1.221827</td>\n",
       "    </tr>\n",
       "    <tr>\n",
       "      <th>812</th>\n",
       "      <td>(ItalArt, ChildBks)</td>\n",
       "      <td>(ItalAtlas)</td>\n",
       "      <td>0.0360</td>\n",
       "      <td>0.0370</td>\n",
       "      <td>0.0145</td>\n",
       "      <td>0.402778</td>\n",
       "      <td>10.885886</td>\n",
       "      <td>0.013168</td>\n",
       "      <td>1.612465</td>\n",
       "    </tr>\n",
       "    <tr>\n",
       "      <th>973</th>\n",
       "      <td>(ItalArt)</td>\n",
       "      <td>(DoItYBks, ItalAtlas)</td>\n",
       "      <td>0.0485</td>\n",
       "      <td>0.0190</td>\n",
       "      <td>0.0095</td>\n",
       "      <td>0.195876</td>\n",
       "      <td>10.309278</td>\n",
       "      <td>0.008578</td>\n",
       "      <td>1.219962</td>\n",
       "    </tr>\n",
       "    <tr>\n",
       "      <th>1004</th>\n",
       "      <td>(YouthBks, ItalAtlas)</td>\n",
       "      <td>(ItalArt)</td>\n",
       "      <td>0.0175</td>\n",
       "      <td>0.0485</td>\n",
       "      <td>0.0085</td>\n",
       "      <td>0.485714</td>\n",
       "      <td>10.014728</td>\n",
       "      <td>0.007651</td>\n",
       "      <td>1.850139</td>\n",
       "    </tr>\n",
       "  </tbody>\n",
       "</table>\n",
       "</div>"
      ],
      "text/plain": [
       "                antecedents            consequents  antecedent support  \\\n",
       "749       (RefBks, ItalArt)            (ItalAtlas)              0.0200   \n",
       "746               (ItalArt)    (ItalAtlas, ArtBks)              0.0485   \n",
       "351      (ArtBks, ItalCook)              (ItalArt)              0.0565   \n",
       "561      (RefBks, ItalCook)            (ItalAtlas)              0.0465   \n",
       "924               (ItalArt)   (ItalAtlas, GeogBks)              0.0485   \n",
       "900               (ItalArt)  (ItalAtlas, ItalCook)              0.0485   \n",
       "966               (ItalArt)   (Florence, ItalCook)              0.0485   \n",
       "812     (ItalArt, ChildBks)            (ItalAtlas)              0.0360   \n",
       "973               (ItalArt)  (DoItYBks, ItalAtlas)              0.0485   \n",
       "1004  (YouthBks, ItalAtlas)              (ItalArt)              0.0175   \n",
       "\n",
       "      consequent support  support  confidence       lift  leverage  conviction  \n",
       "749               0.0370   0.0165    0.825000  22.297297  0.015760    5.502857  \n",
       "746               0.0180   0.0165    0.340206  18.900344  0.015627    1.488344  \n",
       "351               0.0485   0.0375    0.663717  13.684883  0.034760    2.829461  \n",
       "561               0.0370   0.0230    0.494624  13.368207  0.021279    1.905511  \n",
       "924               0.0205   0.0115    0.237113  11.566507  0.010506    1.283939  \n",
       "900               0.0230   0.0125    0.257732  11.205737  0.011385    1.316236  \n",
       "966               0.0175   0.0095    0.195876  11.192931  0.008651    1.221827  \n",
       "812               0.0370   0.0145    0.402778  10.885886  0.013168    1.612465  \n",
       "973               0.0190   0.0095    0.195876  10.309278  0.008578    1.219962  \n",
       "1004              0.0485   0.0085    0.485714  10.014728  0.007651    1.850139  "
      ]
     },
     "execution_count": 15,
     "metadata": {},
     "output_type": "execute_result"
    }
   ],
   "source": [
    "rules_no_redudancy.sort_values('lift',ascending=False).head(10)"
   ]
  },
  {
   "cell_type": "code",
   "execution_count": 16,
   "metadata": {},
   "outputs": [],
   "source": [
    "# Perform algorithm for different support, connfidence value and max length"
   ]
  },
  {
   "cell_type": "code",
   "execution_count": 17,
   "metadata": {},
   "outputs": [],
   "source": [
    "frequent_itemsets1 = apriori(book, min_support=0.007, max_len=4,use_colnames = True)"
   ]
  },
  {
   "cell_type": "code",
   "execution_count": 18,
   "metadata": {},
   "outputs": [],
   "source": [
    "# Most Frequent item sets based on support"
   ]
  },
  {
   "cell_type": "code",
   "execution_count": 19,
   "metadata": {},
   "outputs": [],
   "source": [
    "frequent_itemsets1.sort_values('support',ascending = False,inplace=True)"
   ]
  },
  {
   "cell_type": "code",
   "execution_count": 20,
   "metadata": {},
   "outputs": [
    {
     "name": "stderr",
     "output_type": "stream",
     "text": [
      "<ipython-input-20-298a32eca15c>:1: MatplotlibDeprecationWarning: Using a string of single character colors as a color sequence is deprecated since 3.2 and will be removed two minor releases later. Use an explicit list instead.\n",
      "  plt.bar(x = list(range(1,11)),height = frequent_itemsets1.support[1:11],color='rgmyk');\n"
     ]
    },
    {
     "data": {
      "text/plain": [
       "Text(0, 0.5, 'support')"
      ]
     },
     "execution_count": 20,
     "metadata": {},
     "output_type": "execute_result"
    },
    {
     "data": {
      "image/png": "[encoded data removed]",
      "text/plain": [
       "<Figure size 432x288 with 1 Axes>"
      ]
     },
     "metadata": {
      "needs_background": "light"
     },
     "output_type": "display_data"
    }
   ],
   "source": [
    "plt.bar(x = list(range(1,11)),height = frequent_itemsets1.support[1:11],color='rgmyk');\n",
    "plt.xticks(list(range(1,11)),frequent_itemsets1.itemsets[1:11]);\n",
    "plt.xlabel('item-sets');\n",
    "plt.ylabel('support')"
   ]
  },
  {
   "cell_type": "code",
   "execution_count": 21,
   "metadata": {},
   "outputs": [],
   "source": [
    "rules1 = association_rules(frequent_itemsets1, metric=\"lift\", min_threshold=1)\n",
    "rules1.head(20)\n",
    "rules1.sort_values('lift',ascending = False,inplace=True)"
   ]
  },
  {
   "cell_type": "code",
   "execution_count": 22,
   "metadata": {},
   "outputs": [],
   "source": [
    "frequent_itemsets2 = apriori(book, min_support=0.009, max_len=5,use_colnames = True)"
   ]
  },
  {
   "cell_type": "code",
   "execution_count": 23,
   "metadata": {},
   "outputs": [],
   "source": [
    "# Most Frequent item sets based on support "
   ]
  },
  {
   "cell_type": "code",
   "execution_count": 24,
   "metadata": {},
   "outputs": [],
   "source": [
    "frequent_itemsets2.sort_values('support',ascending = False,inplace=True)"
   ]
  },
  {
   "cell_type": "code",
   "execution_count": 25,
   "metadata": {},
   "outputs": [
    {
     "name": "stderr",
     "output_type": "stream",
     "text": [
      "<ipython-input-25-ecb149ec78ec>:1: MatplotlibDeprecationWarning: Using a string of single character colors as a color sequence is deprecated since 3.2 and will be removed two minor releases later. Use an explicit list instead.\n",
      "  plt.bar(x = list(range(1,11)),height = frequent_itemsets2.support[1:11],color='rgmyk');\n"
     ]
    },
    {
     "data": {
      "text/plain": [
       "Text(0, 0.5, 'support')"
      ]
     },
     "execution_count": 25,
     "metadata": {},
     "output_type": "execute_result"
    },
    {
     "data": {
      "image/png": "[encoded data removed]",
      "text/plain": [
       "<Figure size 432x288 with 1 Axes>"
      ]
     },
     "metadata": {
      "needs_background": "light"
     },
     "output_type": "display_data"
    }
   ],
   "source": [
    "plt.bar(x = list(range(1,11)),height = frequent_itemsets2.support[1:11],color='rgmyk');\n",
    "plt.xticks(list(range(1,11)),frequent_itemsets2.itemsets[1:11]);\n",
    "plt.xlabel('item-sets');\n",
    "plt.ylabel('support')"
   ]
  },
  {
   "cell_type": "code",
   "execution_count": 26,
   "metadata": {},
   "outputs": [],
   "source": [
    "rules2 = association_rules(frequent_itemsets2, metric=\"lift\", min_threshold=1)\n",
    "rules2.head(20)\n",
    "rules2.sort_values('lift',ascending = False,inplace=True)"
   ]
  },
  {
   "cell_type": "markdown",
   "metadata": {},
   "source": [
    "# As min lenth value is changing the rules is changing.\n",
    "#rules =1054\n",
    "#rules1=4556\n",
    "#rules2=9164"
   ]
  }
 ],
 "metadata": {
  "kernelspec": {
   "display_name": "Python 3",
   "language": "python",
   "name": "python3"
  },
  "language_info": {
   "codemirror_mode": {
    "name": "ipython",
    "version": 3
   },
   "file_extension": ".py",
   "mimetype": "text/x-python",
   "name": "python",
   "nbconvert_exporter": "python",
   "pygments_lexer": "ipython3",
   "version": "3.8.5"
  }
 },
 "nbformat": 4,
 "nbformat_minor": 4
}
