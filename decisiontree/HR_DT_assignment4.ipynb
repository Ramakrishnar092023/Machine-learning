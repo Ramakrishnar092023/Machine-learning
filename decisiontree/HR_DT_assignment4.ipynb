{
 "cells": [
  {
   "cell_type": "markdown",
   "metadata": {},
   "source": [
    "# Topic: Decision Tree & Random Forest\n",
    "# Name: R.Ramakrishna Raju\n",
    "# Batch: 09012021"
   ]
  },
  {
   "cell_type": "markdown",
   "metadata": {},
   "source": [
    "Problem Statement: -\n",
    "In Recruitment domain, HR faces with the challenge of predicting if the candidate is faking his salary or the candidate is genuine. In order to do it manually, let us use our Machine Learning algorithm to correctly classify using Decision Tree and Random Forest. We have a scenario where, a candidate claims to have 5 years of experience and earning 70000 per month working as regional manager and the candidate is expecting more than his previous CTC. A sample data has been collected, find out the candidate claims are genuine or fake.\n",
    "\n"
   ]
  },
  {
   "cell_type": "markdown",
   "metadata": {},
   "source": [
    "# Importing Libraries"
   ]
  },
  {
   "cell_type": "code",
   "execution_count": 1,
   "metadata": {},
   "outputs": [],
   "source": [
    "import pandas as pd\n",
    "import numpy as np\n",
    "import matplotlib.pyplot as plt\n",
    "import seaborn as sns"
   ]
  },
  {
   "cell_type": "code",
   "execution_count": 2,
   "metadata": {},
   "outputs": [
    {
     "data": {
      "text/html": [
       "<div>\n",
       "<style scoped>\n",
       "    .dataframe tbody tr th:only-of-type {\n",
       "        vertical-align: middle;\n",
       "    }\n",
       "\n",
       "    .dataframe tbody tr th {\n",
       "        vertical-align: top;\n",
       "    }\n",
       "\n",
       "    .dataframe thead th {\n",
       "        text-align: right;\n",
       "    }\n",
       "</style>\n",
       "<table border=\"1\" class=\"dataframe\">\n",
       "  <thead>\n",
       "    <tr style=\"text-align: right;\">\n",
       "      <th></th>\n",
       "      <th>Position of the employee</th>\n",
       "      <th>no of Years of Experience of employee</th>\n",
       "      <th>monthlyincomeofemployee</th>\n",
       "    </tr>\n",
       "  </thead>\n",
       "  <tbody>\n",
       "    <tr>\n",
       "      <th>0</th>\n",
       "      <td>Business Analyst</td>\n",
       "      <td>1.1</td>\n",
       "      <td>39343</td>\n",
       "    </tr>\n",
       "    <tr>\n",
       "      <th>1</th>\n",
       "      <td>Junior Consultant</td>\n",
       "      <td>1.3</td>\n",
       "      <td>46205</td>\n",
       "    </tr>\n",
       "    <tr>\n",
       "      <th>2</th>\n",
       "      <td>Senior Consultant</td>\n",
       "      <td>1.5</td>\n",
       "      <td>37731</td>\n",
       "    </tr>\n",
       "    <tr>\n",
       "      <th>3</th>\n",
       "      <td>Manager</td>\n",
       "      <td>2.0</td>\n",
       "      <td>43525</td>\n",
       "    </tr>\n",
       "    <tr>\n",
       "      <th>4</th>\n",
       "      <td>Country Manager</td>\n",
       "      <td>2.2</td>\n",
       "      <td>39891</td>\n",
       "    </tr>\n",
       "    <tr>\n",
       "      <th>...</th>\n",
       "      <td>...</td>\n",
       "      <td>...</td>\n",
       "      <td>...</td>\n",
       "    </tr>\n",
       "    <tr>\n",
       "      <th>191</th>\n",
       "      <td>Region Manager</td>\n",
       "      <td>3.9</td>\n",
       "      <td>55794</td>\n",
       "    </tr>\n",
       "    <tr>\n",
       "      <th>192</th>\n",
       "      <td>Partner</td>\n",
       "      <td>4.0</td>\n",
       "      <td>56957</td>\n",
       "    </tr>\n",
       "    <tr>\n",
       "      <th>193</th>\n",
       "      <td>Senior Partner</td>\n",
       "      <td>4.0</td>\n",
       "      <td>57081</td>\n",
       "    </tr>\n",
       "    <tr>\n",
       "      <th>194</th>\n",
       "      <td>C-level</td>\n",
       "      <td>4.1</td>\n",
       "      <td>61111</td>\n",
       "    </tr>\n",
       "    <tr>\n",
       "      <th>195</th>\n",
       "      <td>CEO</td>\n",
       "      <td>4.5</td>\n",
       "      <td>67938</td>\n",
       "    </tr>\n",
       "  </tbody>\n",
       "</table>\n",
       "<p>196 rows × 3 columns</p>\n",
       "</div>"
      ],
      "text/plain": [
       "    Position of the employee  no of Years of Experience of employee  \\\n",
       "0           Business Analyst                                    1.1   \n",
       "1          Junior Consultant                                    1.3   \n",
       "2          Senior Consultant                                    1.5   \n",
       "3                    Manager                                    2.0   \n",
       "4            Country Manager                                    2.2   \n",
       "..                       ...                                    ...   \n",
       "191           Region Manager                                    3.9   \n",
       "192                  Partner                                    4.0   \n",
       "193           Senior Partner                                    4.0   \n",
       "194                  C-level                                    4.1   \n",
       "195                      CEO                                    4.5   \n",
       "\n",
       "      monthlyincomeofemployee  \n",
       "0                       39343  \n",
       "1                       46205  \n",
       "2                       37731  \n",
       "3                       43525  \n",
       "4                       39891  \n",
       "..                        ...  \n",
       "191                     55794  \n",
       "192                     56957  \n",
       "193                     57081  \n",
       "194                     61111  \n",
       "195                     67938  \n",
       "\n",
       "[196 rows x 3 columns]"
      ]
     },
     "execution_count": 2,
     "metadata": {},
     "output_type": "execute_result"
    }
   ],
   "source": [
    "df=pd.read_csv(r\"F:\\360\\DT\\HR_DT.csv\")\n",
    "df"
   ]
  },
  {
   "cell_type": "code",
   "execution_count": 3,
   "metadata": {},
   "outputs": [
    {
     "data": {
      "text/plain": [
       "Position of the employee                 0\n",
       "no of Years of Experience of employee    0\n",
       " monthlyincomeofemployee                 0\n",
       "dtype: int64"
      ]
     },
     "execution_count": 3,
     "metadata": {},
     "output_type": "execute_result"
    }
   ],
   "source": [
    "# Check for missing values\n",
    "df.isna().sum()"
   ]
  },
  {
   "cell_type": "code",
   "execution_count": 4,
   "metadata": {},
   "outputs": [
    {
     "data": {
      "text/plain": [
       "<seaborn.axisgrid.PairGrid at 0x202508ee3a0>"
      ]
     },
     "execution_count": 4,
     "metadata": {},
     "output_type": "execute_result"
    },
    {
     "data": {
      "image/png": "[encoded data removed]",
      "text/plain": [
       "<Figure size 360x360 with 6 Axes>"
      ]
     },
     "metadata": {
      "needs_background": "light"
     },
     "output_type": "display_data"
    }
   ],
   "source": [
    "sns.pairplot(df)"
   ]
  },
  {
   "cell_type": "code",
   "execution_count": 5,
   "metadata": {},
   "outputs": [
    {
     "data": {
      "text/html": [
       "<div>\n",
       "<style scoped>\n",
       "    .dataframe tbody tr th:only-of-type {\n",
       "        vertical-align: middle;\n",
       "    }\n",
       "\n",
       "    .dataframe tbody tr th {\n",
       "        vertical-align: top;\n",
       "    }\n",
       "\n",
       "    .dataframe thead th {\n",
       "        text-align: right;\n",
       "    }\n",
       "</style>\n",
       "<table border=\"1\" class=\"dataframe\">\n",
       "  <thead>\n",
       "    <tr style=\"text-align: right;\">\n",
       "      <th></th>\n",
       "      <th>no of Years of Experience of employee</th>\n",
       "    </tr>\n",
       "  </thead>\n",
       "  <tbody>\n",
       "    <tr>\n",
       "      <th>0</th>\n",
       "      <td>1.1</td>\n",
       "    </tr>\n",
       "    <tr>\n",
       "      <th>1</th>\n",
       "      <td>1.3</td>\n",
       "    </tr>\n",
       "    <tr>\n",
       "      <th>2</th>\n",
       "      <td>1.5</td>\n",
       "    </tr>\n",
       "    <tr>\n",
       "      <th>3</th>\n",
       "      <td>2.0</td>\n",
       "    </tr>\n",
       "    <tr>\n",
       "      <th>4</th>\n",
       "      <td>2.2</td>\n",
       "    </tr>\n",
       "    <tr>\n",
       "      <th>...</th>\n",
       "      <td>...</td>\n",
       "    </tr>\n",
       "    <tr>\n",
       "      <th>191</th>\n",
       "      <td>3.9</td>\n",
       "    </tr>\n",
       "    <tr>\n",
       "      <th>192</th>\n",
       "      <td>4.0</td>\n",
       "    </tr>\n",
       "    <tr>\n",
       "      <th>193</th>\n",
       "      <td>4.0</td>\n",
       "    </tr>\n",
       "    <tr>\n",
       "      <th>194</th>\n",
       "      <td>4.1</td>\n",
       "    </tr>\n",
       "    <tr>\n",
       "      <th>195</th>\n",
       "      <td>4.5</td>\n",
       "    </tr>\n",
       "  </tbody>\n",
       "</table>\n",
       "<p>196 rows × 1 columns</p>\n",
       "</div>"
      ],
      "text/plain": [
       "     no of Years of Experience of employee\n",
       "0                                      1.1\n",
       "1                                      1.3\n",
       "2                                      1.5\n",
       "3                                      2.0\n",
       "4                                      2.2\n",
       "..                                     ...\n",
       "191                                    3.9\n",
       "192                                    4.0\n",
       "193                                    4.0\n",
       "194                                    4.1\n",
       "195                                    4.5\n",
       "\n",
       "[196 rows x 1 columns]"
      ]
     },
     "execution_count": 5,
     "metadata": {},
     "output_type": "execute_result"
    }
   ],
   "source": [
    "predictors=df.iloc[:,-2:-1]\n",
    "predictors"
   ]
  },
  {
   "cell_type": "code",
   "execution_count": 6,
   "metadata": {},
   "outputs": [
    {
     "data": {
      "text/html": [
       "<div>\n",
       "<style scoped>\n",
       "    .dataframe tbody tr th:only-of-type {\n",
       "        vertical-align: middle;\n",
       "    }\n",
       "\n",
       "    .dataframe tbody tr th {\n",
       "        vertical-align: top;\n",
       "    }\n",
       "\n",
       "    .dataframe thead th {\n",
       "        text-align: right;\n",
       "    }\n",
       "</style>\n",
       "<table border=\"1\" class=\"dataframe\">\n",
       "  <thead>\n",
       "    <tr style=\"text-align: right;\">\n",
       "      <th></th>\n",
       "      <th>monthlyincomeofemployee</th>\n",
       "    </tr>\n",
       "  </thead>\n",
       "  <tbody>\n",
       "    <tr>\n",
       "      <th>0</th>\n",
       "      <td>39343</td>\n",
       "    </tr>\n",
       "    <tr>\n",
       "      <th>1</th>\n",
       "      <td>46205</td>\n",
       "    </tr>\n",
       "    <tr>\n",
       "      <th>2</th>\n",
       "      <td>37731</td>\n",
       "    </tr>\n",
       "    <tr>\n",
       "      <th>3</th>\n",
       "      <td>43525</td>\n",
       "    </tr>\n",
       "    <tr>\n",
       "      <th>4</th>\n",
       "      <td>39891</td>\n",
       "    </tr>\n",
       "    <tr>\n",
       "      <th>...</th>\n",
       "      <td>...</td>\n",
       "    </tr>\n",
       "    <tr>\n",
       "      <th>191</th>\n",
       "      <td>55794</td>\n",
       "    </tr>\n",
       "    <tr>\n",
       "      <th>192</th>\n",
       "      <td>56957</td>\n",
       "    </tr>\n",
       "    <tr>\n",
       "      <th>193</th>\n",
       "      <td>57081</td>\n",
       "    </tr>\n",
       "    <tr>\n",
       "      <th>194</th>\n",
       "      <td>61111</td>\n",
       "    </tr>\n",
       "    <tr>\n",
       "      <th>195</th>\n",
       "      <td>67938</td>\n",
       "    </tr>\n",
       "  </tbody>\n",
       "</table>\n",
       "<p>196 rows × 1 columns</p>\n",
       "</div>"
      ],
      "text/plain": [
       "      monthlyincomeofemployee\n",
       "0                       39343\n",
       "1                       46205\n",
       "2                       37731\n",
       "3                       43525\n",
       "4                       39891\n",
       "..                        ...\n",
       "191                     55794\n",
       "192                     56957\n",
       "193                     57081\n",
       "194                     61111\n",
       "195                     67938\n",
       "\n",
       "[196 rows x 1 columns]"
      ]
     },
     "execution_count": 6,
     "metadata": {},
     "output_type": "execute_result"
    }
   ],
   "source": [
    "target=df.iloc[:,-1:]\n",
    "target"
   ]
  },
  {
   "cell_type": "markdown",
   "metadata": {},
   "source": [
    "# train Test Split"
   ]
  },
  {
   "cell_type": "code",
   "execution_count": 7,
   "metadata": {},
   "outputs": [],
   "source": [
    "from sklearn.model_selection import train_test_split\n",
    "x_train,x_test,y_train,y_test=train_test_split(predictors,target,test_size=0.80,random_state=0)"
   ]
  },
  {
   "cell_type": "markdown",
   "metadata": {},
   "source": [
    "# Model Selection"
   ]
  },
  {
   "cell_type": "code",
   "execution_count": 8,
   "metadata": {},
   "outputs": [],
   "source": [
    "from sklearn.tree import DecisionTreeRegressor\n",
    "clf_dt=DecisionTreeRegressor()"
   ]
  },
  {
   "cell_type": "code",
   "execution_count": 9,
   "metadata": {},
   "outputs": [],
   "source": [
    "from sklearn.ensemble import RandomForestClassifier\n",
    "clf_rf=RandomForestClassifier()"
   ]
  },
  {
   "cell_type": "markdown",
   "metadata": {},
   "source": [
    "# Fitting  the model"
   ]
  },
  {
   "cell_type": "code",
   "execution_count": 10,
   "metadata": {},
   "outputs": [
    {
     "data": {
      "text/plain": [
       "DecisionTreeRegressor()"
      ]
     },
     "execution_count": 10,
     "metadata": {},
     "output_type": "execute_result"
    }
   ],
   "source": [
    "clf_dt.fit(x_train,y_train)"
   ]
  },
  {
   "cell_type": "code",
   "execution_count": 11,
   "metadata": {},
   "outputs": [
    {
     "name": "stderr",
     "output_type": "stream",
     "text": [
      "<ipython-input-11-9c7b4893abb2>:1: DataConversionWarning: A column-vector y was passed when a 1d array was expected. Please change the shape of y to (n_samples,), for example using ravel().\n",
      "  clf_rf.fit(x_train,y_train)\n"
     ]
    },
    {
     "data": {
      "text/plain": [
       "RandomForestClassifier()"
      ]
     },
     "execution_count": 11,
     "metadata": {},
     "output_type": "execute_result"
    }
   ],
   "source": [
    "clf_rf.fit(x_train,y_train)"
   ]
  },
  {
   "cell_type": "markdown",
   "metadata": {},
   "source": [
    "# predicting the model"
   ]
  },
  {
   "cell_type": "code",
   "execution_count": 12,
   "metadata": {},
   "outputs": [
    {
     "data": {
      "text/plain": [
       "array([101302.        ,  56957.        ,  39891.        , 101302.        ,\n",
       "        98273.        ,  67938.        ,  57081.        ,  39891.        ,\n",
       "        67938.        ,  93940.        ,  55359.66666667,  60150.        ,\n",
       "        60150.        ,  56957.        ,  91738.        ,  46205.        ,\n",
       "        39891.        ,  46205.        ,  67938.        ,  98273.        ,\n",
       "       116969.        , 101302.        ,  67938.        , 121872.        ,\n",
       "        39891.        , 105582.        ,  91738.        ,  67938.        ,\n",
       "       105582.        ,  67938.        , 101302.        ,  60150.        ,\n",
       "        60150.        ,  55359.66666667,  39891.        ,  91738.        ,\n",
       "       122391.        ,  67938.        ,  63218.        , 116969.        ,\n",
       "        93940.        , 101302.        ,  56957.        ,  55359.66666667,\n",
       "        46205.        ,  63218.        ,  37731.        ,  56957.        ,\n",
       "       122391.        ,  37731.        ,  39891.        , 109431.        ,\n",
       "        46205.        ,  93940.        ,  63218.        ,  83088.        ,\n",
       "        46205.        ,  46205.        ,  93940.        , 121872.        ,\n",
       "        46205.        , 109431.        ,  57189.        ,  67938.        ,\n",
       "        98273.        , 112635.        ,  67938.        ,  93940.        ,\n",
       "       116969.        ,  60150.        ,  37731.        , 116969.        ,\n",
       "        56957.        ,  67938.        , 112635.        ,  55359.66666667,\n",
       "        60150.        ,  67938.        ,  63218.        ,  57189.        ,\n",
       "        37731.        ,  37731.        , 121872.        ,  98273.        ,\n",
       "       101302.        ,  57081.        ,  63218.        ,  55359.66666667,\n",
       "        57081.        ,  55359.66666667, 121872.        , 109431.        ,\n",
       "        57189.        ,  39891.        ,  83088.        ,  39891.        ,\n",
       "        60150.        ,  91738.        ,  46205.        ,  39891.        ,\n",
       "       105582.        ,  60150.        ,  39891.        ,  93940.        ,\n",
       "        56957.        ,  57189.        ,  93940.        ,  93940.        ,\n",
       "       105582.        ,  57081.        ,  67938.        , 101302.        ,\n",
       "        46205.        ,  56957.        ,  91738.        ,  67938.        ,\n",
       "        93940.        ,  67938.        , 101302.        ,  63218.        ,\n",
       "        67938.        ,  39891.        , 116969.        ,  57081.        ,\n",
       "        60150.        ,  60150.        ,  55359.66666667,  67938.        ,\n",
       "       109431.        ,  46205.        ,  55359.66666667,  83088.        ,\n",
       "        37731.        ,  46205.        ,  93940.        ,  56957.        ,\n",
       "       121872.        ,  56957.        ,  60150.        , 112635.        ,\n",
       "        60150.        ,  46205.        ,  46205.        ,  55359.66666667,\n",
       "        56957.        ,  67938.        ,  56957.        ,  93940.        ,\n",
       "        83088.        ,  55359.66666667,  57081.        , 101302.        ,\n",
       "        39891.        ,  55359.66666667,  39891.        , 122391.        ,\n",
       "       109431.        ])"
      ]
     },
     "execution_count": 12,
     "metadata": {},
     "output_type": "execute_result"
    }
   ],
   "source": [
    "y_pred_dt=clf_dt.predict(x_test)\n",
    "y_pred_dt"
   ]
  },
  {
   "cell_type": "code",
   "execution_count": 13,
   "metadata": {},
   "outputs": [
    {
     "data": {
      "text/plain": [
       "array([101302,  56957,  39891, 101302,  98273,  67938,  57081,  39891,\n",
       "        67938,  93940,  54445,  60150,  60150,  56957,  91738,  46205,\n",
       "        39891,  46205,  67938,  98273, 116969, 101302,  67938, 121872,\n",
       "        39891, 105582,  91738,  67938, 105582,  67938, 101302,  60150,\n",
       "        60150,  54445,  39891,  91738, 122391,  67938,  63218, 116969,\n",
       "        93940, 101302,  56957,  54445,  46205,  63218,  37731,  56957,\n",
       "       122391,  37731,  39891, 109431,  46205,  93940,  63218,  83088,\n",
       "        46205,  46205,  93940, 121872,  46205, 109431,  57189,  67938,\n",
       "        98273, 112635,  67938,  93940, 116969,  60150,  37731, 116969,\n",
       "        56957,  67938, 112635,  54445,  60150,  67938,  63218,  57189,\n",
       "        37731,  37731, 121872,  98273, 101302,  57081,  63218,  54445,\n",
       "        57081,  54445, 121872, 109431,  57189,  39891,  83088,  39891,\n",
       "        60150,  91738,  46205,  39891, 105582,  60150,  39891,  93940,\n",
       "        56957,  57189,  93940,  93940, 105582,  57081,  67938, 101302,\n",
       "        46205,  56957,  91738,  67938,  93940,  67938, 101302,  63218,\n",
       "        67938,  39891, 116969,  57081,  60150,  60150,  54445,  67938,\n",
       "       109431,  46205,  54445,  83088,  37731,  46205,  93940,  56957,\n",
       "       121872,  56957,  60150, 112635,  60150,  46205,  46205,  54445,\n",
       "        56957,  67938,  56957,  93940,  83088,  54445,  57081, 101302,\n",
       "        39891,  54445,  39891, 122391, 109431], dtype=int64)"
      ]
     },
     "execution_count": 13,
     "metadata": {},
     "output_type": "execute_result"
    }
   ],
   "source": [
    "y_pred_rf=clf_rf.predict(x_test)\n",
    "y_pred_rf"
   ]
  },
  {
   "cell_type": "markdown",
   "metadata": {},
   "source": [
    "# Accuracy"
   ]
  },
  {
   "cell_type": "code",
   "execution_count": 14,
   "metadata": {},
   "outputs": [
    {
     "data": {
      "text/plain": [
       "0.963602320423375"
      ]
     },
     "execution_count": 14,
     "metadata": {},
     "output_type": "execute_result"
    }
   ],
   "source": [
    "from sklearn.metrics import r2_score\n",
    "r2_score(y_pred_dt,y_test)"
   ]
  },
  {
   "cell_type": "code",
   "execution_count": 15,
   "metadata": {},
   "outputs": [
    {
     "data": {
      "text/plain": [
       "0.9625884295725546"
      ]
     },
     "execution_count": 15,
     "metadata": {},
     "output_type": "execute_result"
    }
   ],
   "source": [
    "r2_score(y_pred_rf,y_test)"
   ]
  }
 ],
 "metadata": {
  "kernelspec": {
   "display_name": "Python 3",
   "language": "python",
   "name": "python3"
  },
  "language_info": {
   "codemirror_mode": {
    "name": "ipython",
    "version": 3
   },
   "file_extension": ".py",
   "mimetype": "text/x-python",
   "name": "python",
   "nbconvert_exporter": "python",
   "pygments_lexer": "ipython3",
   "version": "3.8.5"
  }
 },
 "nbformat": 4,
 "nbformat_minor": 4
}
